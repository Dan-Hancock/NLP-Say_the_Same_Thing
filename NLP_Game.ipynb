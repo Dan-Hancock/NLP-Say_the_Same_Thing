{
 "cells": [
  {
   "cell_type": "markdown",
   "id": "78945919-399f-4540-9843-0d063f40d45a",
   "metadata": {},
   "source": [
    "Table of Contents\n",
    "1. Prompt User for input and generate random word for the computer\n",
    "2. Setup LSTM\n",
    "    - Tokenize text\n",
    "    - Word embed tokenized text into vectors\n",
    "    - input vectors into LSTM (Here is where the majority of the work will be. I'll have to figure out how to use both inputs, taking their definitions from a database, running an LSTM on many different definitions of words and using the mo\n",
    "    - Prompt user for next word and predict next word\n",
    "3. Declare winner or repeat step 2."
   ]
  },
  {
   "cell_type": "code",
   "execution_count": null,
   "id": "c7c4deca-550b-4417-b829-a9e988ecdf53",
   "metadata": {},
   "outputs": [],
   "source": []
  },
  {
   "cell_type": "code",
   "execution_count": null,
   "id": "32f3332e-ce42-4b6f-b3d6-d57c2e4fd214",
   "metadata": {},
   "outputs": [],
   "source": []
  },
  {
   "cell_type": "code",
   "execution_count": null,
   "id": "1f3e3b3f-2140-4366-8dfe-4637e8baacf7",
   "metadata": {},
   "outputs": [],
   "source": []
  }
 ],
 "metadata": {
  "kernelspec": {
   "display_name": "Python 3",
   "language": "python",
   "name": "python3"
  },
  "language_info": {
   "codemirror_mode": {
    "name": "ipython",
    "version": 3
   },
   "file_extension": ".py",
   "mimetype": "text/x-python",
   "name": "python",
   "nbconvert_exporter": "python",
   "pygments_lexer": "ipython3",
   "version": "3.8.8"
  }
 },
 "nbformat": 4,
 "nbformat_minor": 5
}
